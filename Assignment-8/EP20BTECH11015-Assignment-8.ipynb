{
 "cells": [
  {
   "attachments": {},
   "cell_type": "markdown",
   "metadata": {},
   "source": [
    "## EP20BTECH11015 ASSIGNMENT 8\n",
    "\n",
    "1. \n",
    "Calculate the angular two-point correlation function of galaxies (including\n",
    "errors obtained by 10 bootstrap resamples) using subset of data from the\n",
    "\n",
    "Blanco Cosmology Survey with r-band magnitude between 17 and 20, and\n",
    "using 16 logarithmic-spaced angular bins from 1/60◦\n",
    "to 1◦. Use a linear scale for Y-axis. \n",
    "\n",
    "Galaxies in Blanco Cosmology Survey have spread model > 0.002.\n",
    "This data can be downloaded from http://www.iith.ac.in/~shantanud/BCS05hr_reduced.txt (30 points)\n",
    "\n",
    "(Hint : Look at the astroML source code for Figure 6.17)"
   ]
  },
  {
   "cell_type": "code",
   "execution_count": 1,
   "metadata": {},
   "outputs": [],
   "source": [
    "import pandas as pd\n",
    "import numpy as np\n",
    "from matplotlib import pyplot as plt\n",
    "from astroML.utils.decorators import pickle_results\n",
    "from astroML.correlation import bootstrap_two_point_angular"
   ]
  },
  {
   "cell_type": "code",
   "execution_count": 9,
   "metadata": {},
   "outputs": [
    {
     "name": "stdout",
     "output_type": "stream",
     "text": [
      "@pickle_results: using precomputed results from 'correlation_functions.pkl'\n"
     ]
    },
    {
     "data": {
      "image/png": "[encoded data removed]",
      "text/plain": [
       "<Figure size 720x576 with 1 Axes>"
      ]
     },
     "metadata": {
      "needs_background": "light"
     },
     "output_type": "display_data"
    }
   ],
   "source": [
    "data = pd.read_csv('BCS05hr_reduced.txt', sep='\\s+')\n",
    "data = data[data['r-mag'] <= 20]\n",
    "data = data[data['r-mag'] >= 17]\n",
    "bins = np.logspace(-np.log10(60), 0, 16)\n",
    "\n",
    "@pickle_results(\"correlation_functions.pkl\")\n",
    "def compute_results(Nbins=16, Nbootstraps=10,  method='landy-szalay', rseed=0):\n",
    "    np.random.seed(rseed)\n",
    "\n",
    "    results = [bins]\n",
    "    # for D in [data_red, data_blue]:\n",
    "    results += bootstrap_two_point_angular(data['#RA'],data['DEC'],bins=bins,method=method,Nbootstraps=Nbootstraps)\n",
    "\n",
    "    return results\n",
    "\n",
    "(bins, corr, corr_err, bootstraps) = compute_results()\n",
    "\n",
    "bin_centers = 0.5 * (bins[1:] + bins[:-1])\n",
    "plt.figure(figsize=(10, 8))\n",
    "plt.errorbar(bin_centers, corr, corr_err, fmt='.k', ecolor='gray', lw=1)\n",
    "plt.xlabel(r'$\\theta\\ (deg)$')\n",
    "plt.ylabel(r'$\\hat{w}(\\theta)$')\n",
    "plt.xscale('log')\n",
    "plt.show()"
   ]
  }
 ],
 "metadata": {
  "kernelspec": {
   "display_name": "Python 3",
   "language": "python",
   "name": "python3"
  },
  "language_info": {
   "codemirror_mode": {
    "name": "ipython",
    "version": 3
   },
   "file_extension": ".py",
   "mimetype": "text/x-python",
   "name": "python",
   "nbconvert_exporter": "python",
   "pygments_lexer": "ipython3",
   "version": "3.10.6"
  },
  "orig_nbformat": 4
 },
 "nbformat": 4,
 "nbformat_minor": 2
}
